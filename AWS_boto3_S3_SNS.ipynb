{
 "cells": [
  {
   "cell_type": "markdown",
   "id": "bd130906-30cd-4eb0-890d-4676c5e013c0",
   "metadata": {
    "jp-MarkdownHeadingCollapsed": true,
    "tags": []
   },
   "source": [
    "# Summary\n",
    "### Managing files stored on AWS S3 with Boto3\n",
    "\n",
    "<p>\n",
    "This project uses the Simple Notification Service (SNS) of AWS. Several basic functions like creating topics, subscriptions, publishing are explained. The functionality is extended with a newly created helper package by me. This is a work in progress. \n",
    "</p>\n",
    "\n",
    "<p> \n",
    "It relies heavily on the  \n",
    "<a href = https://boto3.amazonaws.com/v1/documentation/api/latest/index.html target=_blank> \n",
    "Boto3 documentation.</a> <br> \n",
    "According to the doc: \n",
    "</p> \n",
    "\n",
    "<p> \n",
    "“You use the AWS SDK for Python (Boto3) to create, configure, and manage AWS services, such as Amazon Elastic Compute Cloud (Amazon EC2) and Amazon Simple Storage Service (Amazon S3). The SDK provides an object-oriented API as well as low-level access to AWS services.” \n",
    "</p> \n",
    "\n",
    "<p>This project creates an  \n",
    "\n",
    "### S3_helpers_pckg \n",
    "\n",
    "<p> \n",
    "The package stores a class with useful helper functions, mostly manipulating the dicts of responses.<br> \n",
    "The functions are mostly self defined, but other functions for example from Github and the doc are integrated.<br> \n",
    "In this case credits are given.<br> \n",
    "The pckg is a work in progress. <br>\n",
    "Functions defined here are added later to the helper package.\n",
    "\n",
    "</p> \n",
    "\n",
    "<p>Several topics are examined here. <br> \n",
    "For example:</p> \n",
    "<ul> \n",
    "<li>Setting up AWS for SNS.</li> \n",
    "<li>Creating a client.</li> \n",
    "<li>Creating a topic.</li> \n",
    "<li>Subscriptions.</li> \n",
    "<li>Unsubscribe.</li> \n",
    "<li>Endpoints.</li> \n",
    "<li>Publishing messages.</li>     \n",
    "</ul> \n",
    "\n",
    "\n",
    "<p> \n",
    "The credentials are secured with a <a href=\"www.dotenv.org/docs\" target=_blank> \n",
    "dotenv.</a>\n",
    "</p> \n",
    " "
   ]
  },
  {
   "cell_type": "markdown",
   "id": "dc06b264-3c83-4b78-a5d4-67c5dec6ab09",
   "metadata": {},
   "source": [
    "# Import packages"
   ]
  },
  {
   "cell_type": "code",
   "execution_count": 3,
   "id": "eff92be7-1425-4c3b-84a9-1175464db281",
   "metadata": {},
   "outputs": [],
   "source": [
    "# Import packages\n",
    "\n",
    "import pandas as pd\n",
    "import pandasql\n",
    "from pandasql import sqldf\n",
    "\n",
    "import matplotlib.pyplot as plt\n",
    "%matplotlib inline\n",
    "import seaborn as sns\n",
    "\n",
    "import numpy as np\n",
    "import random\n",
    "import os as os\n",
    "import time\n",
    "import pprint\n",
    "import sys\n",
    "import re\n",
    "import json\n",
    "import glob \n",
    "import jinja2 # for styling data frames \n",
    "from IPython.display import display, HTML # Displaying HTML in Jupyter notebook\n",
    "\n",
    "from pathlib import *\n",
    "\n",
    "# security\n",
    "from dotenv import load_dotenv\n",
    "import logging\n",
    "\n",
    "# display html in code cells\n",
    "from IPython.display import HTML, display, Markdown, Latex, Image"
   ]
  },
  {
   "cell_type": "markdown",
   "id": "42c9e646-685e-4a73-8a4c-9375ad730b23",
   "metadata": {},
   "source": [
    "#### Import Boto"
   ]
  },
  {
   "cell_type": "code",
   "execution_count": 4,
   "id": "5fc6eea1-4354-4197-9849-3aa35f470c71",
   "metadata": {},
   "outputs": [],
   "source": [
    "# import boto3\n",
    "import boto3\n",
    "import botocore"
   ]
  },
  {
   "cell_type": "markdown",
   "id": "b0ce3e0a-094a-4023-ac9c-e468dbee7e15",
   "metadata": {},
   "source": [
    "### S3_helpers_pckg\n",
    "\n",
    "<p>\n",
    "stores a class with useful helper functions, mostly manipulating the dicts of responses.<br>\n",
    "The functions are mostly self defined, but other functions for example from Github and the doc are integrated.<br>\n",
    "In this case credits are given.<br>\n",
    "The pckg is a work in progress.\n",
    "</p>"
   ]
  },
  {
   "cell_type": "code",
   "execution_count": 5,
   "id": "b819dc4c-0988-4d64-99d9-c262a3c6281d",
   "metadata": {},
   "outputs": [],
   "source": [
    "import S3_helpers_pckg"
   ]
  },
  {
   "cell_type": "code",
   "execution_count": 6,
   "id": "79c094b2-527d-4586-9623-1ab9b23c38a2",
   "metadata": {},
   "outputs": [
    {
     "name": "stdout",
     "output_type": "stream",
     "text": [
      "<class 'module'>\n",
      "module 'S3_helpers_pckg' from\n"
     ]
    }
   ],
   "source": [
    "initpy_path = S3_helpers_pckg\n",
    "\n",
    "print(type(initpy_path))\n",
    "print(str(initpy_path)[1:30])\n"
   ]
  },
  {
   "cell_type": "code",
   "execution_count": 7,
   "id": "f145f3c1-fdbb-421f-8550-ca9979783642",
   "metadata": {},
   "outputs": [],
   "source": [
    "from S3_helpers_pckg import S3_helpers"
   ]
  },
  {
   "cell_type": "markdown",
   "id": "3e353ab7-14ca-48a3-91ab-d076cbcdce1b",
   "metadata": {},
   "source": [
    "### Checkout the directories"
   ]
  },
  {
   "cell_type": "code",
   "execution_count": 8,
   "id": "871b9d0e-0b11-4d52-a526-a1adfbc51177",
   "metadata": {},
   "outputs": [],
   "source": [
    "cwd = os.getcwd()\n",
    "# print(cwd)"
   ]
  },
  {
   "cell_type": "code",
   "execution_count": 9,
   "id": "023155b4-22b4-4e4b-ab56-935c68b8af91",
   "metadata": {},
   "outputs": [],
   "source": [
    "# os.chdir('G:\\Other computers\\Mein Laptop (1)\\data_camp_projects\\Turing_DataAnalysis')\n",
    "os.chdir('G:\\Other computers\\Mein Laptop (1)\\data_camp_projects\\AWS_boto3')"
   ]
  },
  {
   "cell_type": "code",
   "execution_count": 10,
   "id": "2a2052f3-1171-4f42-b837-9a64dce5cad1",
   "metadata": {},
   "outputs": [
    {
     "data": {
      "text/plain": [
       "['AWS_boto3_S3_FileManagement.ipynb',\n",
       " 'txt',\n",
       " '.ipynb_checkpoints',\n",
       " 'data',\n",
       " '.env',\n",
       " 'S3_helpers_pckg',\n",
       " 'upload_files',\n",
       " 'download_files',\n",
       " 'csv',\n",
       " 'html',\n",
       " '.git',\n",
       " 'README.md',\n",
       " '.gitignore']"
      ]
     },
     "execution_count": 10,
     "metadata": {},
     "output_type": "execute_result"
    }
   ],
   "source": [
    "### List directories\n",
    "\n",
    "directories_list = os.listdir()\n",
    "directories_list"
   ]
  },
  {
   "cell_type": "code",
   "execution_count": 11,
   "id": "4ec092e2-5a97-4cf0-a058-5ecf7b20daf4",
   "metadata": {},
   "outputs": [
    {
     "name": "stdout",
     "output_type": "stream",
     "text": [
      "['AWS_boto3_S3_FileManagement.ipynb', 'txt', 'data', 'S3_helpers_pckg', 'upload_files', 'download_files', 'csv', 'html', 'README.md']\n"
     ]
    }
   ],
   "source": [
    "file_list = glob.glob(\"*\")\n",
    "print(file_list)"
   ]
  },
  {
   "cell_type": "markdown",
   "id": "986853be-86de-4ee3-b670-a80259caea40",
   "metadata": {},
   "source": [
    "### Creating requirement files"
   ]
  },
  {
   "cell_type": "code",
   "execution_count": 12,
   "id": "fcd15e35-ea58-4a05-87ba-c348f0f858cf",
   "metadata": {},
   "outputs": [
    {
     "name": "stdout",
     "output_type": "stream",
     "text": [
      "Current version of Python is  3.10.4 | packaged by conda-forge | (main, Mar 30 2022, 08:38:02) [MSC v.1916 64 bit (AMD64)]\n",
      "1.4.3\n",
      "1.21.5\n",
      "0.11.2\n"
     ]
    }
   ],
   "source": [
    "print(\"Current version of Python is \", sys.version)\n",
    "print(pd.__version__)\n",
    "print(np.__version__)\n",
    "print(sns.__version__)"
   ]
  },
  {
   "cell_type": "markdown",
   "id": "d0f9967e-08ab-4fd4-bc80-89a099229ebf",
   "metadata": {},
   "source": [
    "#### Making directories"
   ]
  },
  {
   "cell_type": "code",
   "execution_count": 13,
   "id": "84be11e6-0838-4fe2-aeea-1074faf10dc0",
   "metadata": {},
   "outputs": [],
   "source": [
    "if not os.path.exists(\"txt\"):\n",
    "    # if the demo_folder directory is not present \n",
    "    # then create it.\n",
    "    os.makedirs(\"txt\")\n",
    "    \n",
    "if not os.path.exists(\"upload_files\"):\n",
    "    os.makedirs(\"upload_files\")\n",
    "    \n",
    "if not os.path.exists(\"data\"):\n",
    "    os.makedirs(\"data\")\n"
   ]
  },
  {
   "cell_type": "code",
   "execution_count": 14,
   "id": "3b940907-9df6-4caf-b18b-65e6cd9e67a2",
   "metadata": {},
   "outputs": [],
   "source": [
    "!conda list > txt/requirements_file_conda_boto3.txt\n",
    "!pip list > txt/requirements_file_pip_boto3.txt"
   ]
  },
  {
   "cell_type": "markdown",
   "id": "6f0b93d3-f5b0-447c-a433-2b8922dd8b52",
   "metadata": {},
   "source": [
    "# Setting up AWS resources\n",
    "\n",
    "## Import AWS keys\n"
   ]
  },
  {
   "cell_type": "code",
   "execution_count": 15,
   "id": "80e8d767-837c-4fee-ae38-2cae6d423882",
   "metadata": {},
   "outputs": [],
   "source": [
    " %run S3_helpers_pckg/settings.py"
   ]
  },
  {
   "cell_type": "code",
   "execution_count": 16,
   "id": "1f6c5387-4fca-4a29-9a45-ac5093b80194",
   "metadata": {},
   "outputs": [],
   "source": [
    "# print(Secret_Access_Key)\n",
    "# print(Access_Key_ID)"
   ]
  },
  {
   "cell_type": "markdown",
   "id": "f555353f-d00e-4c8f-bac6-0aaf0e59dedb",
   "metadata": {},
   "source": [
    "## AWS Simple Notificaton Service with Boto 3\n",
    "<p>\n",
    "is a fully managed Pub/Sub service for A2A and A2P messaging.<br>\n",
    "<a href=\"https://aws.amazon.com/sns/\" target=\"_bank\">AWS</a>\n",
    "</p>\n",
    "\n",
    "    \n",
    "\n",
    "\n"
   ]
  },
  {
   "cell_type": "markdown",
   "id": "46f19cfd-00e1-4268-9e48-a31eb159fe55",
   "metadata": {},
   "source": [
    "### Creating a client\n",
    "\n",
    "<p>\n",
    "\"Clients provide a low-level interface to AWS whose methods map close to 1:1 with service APIs. All service operations are supported by clients. Clients are generated from a JSON service definition file.\" (Boto3 doc)\n",
    "</p>\n",
    "\n",
    "<p>\n",
    "The name of the service and the keys are required.<br>\n",
    "The service name here is 'sns'.<br>\n",
    "</p>"
   ]
  },
  {
   "cell_type": "code",
   "execution_count": 17,
   "id": "439f9760-d5d7-404f-9306-9f7450ebaa43",
   "metadata": {},
   "outputs": [],
   "source": [
    "s3_sns_client = boto3.client('sns', region_name='us-east-1',\n",
    "                  aws_access_key_id=Access_Key_ID,\n",
    "                  aws_secret_access_key=Secret_Access_Key)"
   ]
  },
  {
   "cell_type": "code",
   "execution_count": 18,
   "id": "85f6d315-9d54-4aa5-a390-7d432a7c54e3",
   "metadata": {},
   "outputs": [
    {
     "data": {
      "text/plain": [
       "<botocore.client.SNS at 0x23a2d34ce50>"
      ]
     },
     "execution_count": 18,
     "metadata": {},
     "output_type": "execute_result"
    }
   ],
   "source": [
    "s3_sns_client"
   ]
  },
  {
   "cell_type": "markdown",
   "id": "ce1b200f-30c9-4d1a-b04d-0fb3ee6c447a",
   "metadata": {},
   "source": [
    "#### Create topics\n",
    "\n",
    "<p>\n",
    "\"An Amazon SNS topic is a logical access point that acts as a communication channel.<br>\n",
    "A topic lets you group multiple endpoints (such as AWS Lambda, Amazon SQS, HTTP/S, or an email address).\"\n",
    "</p>"
   ]
  },
  {
   "cell_type": "code",
   "execution_count": 19,
   "id": "ca280085-6cd4-4715-a54a-3ab206d6749d",
   "metadata": {},
   "outputs": [],
   "source": [
    "tornado_reponse = \\\n",
    "s3_sns_client.create_topic(Name='tornado_notification_service')"
   ]
  },
  {
   "cell_type": "code",
   "execution_count": 20,
   "id": "0e03ec69-e902-438b-8d37-1467f77c13e0",
   "metadata": {},
   "outputs": [],
   "source": [
    "taifun_response = \\\n",
    "s3_sns_client.create_topic(Name=\"taifun_notification_service\")  "
   ]
  },
  {
   "cell_type": "code",
   "execution_count": 21,
   "id": "318b54b3-660b-488c-a74d-90ca11143d4a",
   "metadata": {},
   "outputs": [
    {
     "name": "stdout",
     "output_type": "stream",
     "text": [
      "arn:aws:sns:us-east-1:047675893846:tornado_notification_service\n",
      "arn:aws:sns:us-east-1:047675893846:taifun_notification_service\n"
     ]
    }
   ],
   "source": [
    "# tornado_response['TopicArn']\n",
    "tornado_topic_arn = tornado_reponse['TopicArn']\n",
    "print(tornado_topic_arn)\n",
    "\n",
    "taifun_topic_arn = taifun_response['TopicArn']\n",
    "print(taifun_topic_arn)"
   ]
  },
  {
   "cell_type": "code",
   "execution_count": 22,
   "id": "dbd2c3a5-d15a-4ce1-bdc5-9e7977d86e63",
   "metadata": {},
   "outputs": [
    {
     "name": "stdout",
     "output_type": "stream",
     "text": [
      "[{'TopicArn': 'arn:aws:sns:us-east-1:047675893846:Default_CloudWatch_Alarms_Topic'}, {'TopicArn': 'arn:aws:sns:us-east-1:047675893846:alarm_greater_than_one_dollar'}, {'TopicArn': 'arn:aws:sns:us-east-1:047675893846:taifun_notification_service'}, {'TopicArn': 'arn:aws:sns:us-east-1:047675893846:tornado_notification_service'}, {'TopicArn': 'arn:aws:sns:us-east-1:047675893846:tornado_notification_service_system'}]\n"
     ]
    }
   ],
   "source": [
    "topics_response_1 = s3_sns_client.list_topics()\n",
    "\n",
    "print(topics_response_1['Topics'])"
   ]
  },
  {
   "cell_type": "markdown",
   "id": "632066f5-754b-46dc-a6b7-e69be217575e",
   "metadata": {},
   "source": [
    "### Amazon Resource Names (ARNs)\n",
    "\n",
    "<p>\n",
    "\"Amazon Resource Names (ARNs) uniquely identify AWS resources.<br>\n",
    "We require an ARN when you need to specify a resource unambiguously across all of AWS,<br>\n",
    "such as in IAM policies, Amazon Relational Database Service (Amazon RDS) tags, and API calls.\"\n",
    "</p>"
   ]
  },
  {
   "cell_type": "markdown",
   "id": "ac733ac2-7642-401a-9a83-06fb10983958",
   "metadata": {},
   "source": [
    "#### Which ARNs are currently active?"
   ]
  },
  {
   "cell_type": "code",
   "execution_count": 75,
   "id": "d99d5d67-d4ee-47ba-8358-7c4f3b4f83f7",
   "metadata": {},
   "outputs": [],
   "source": [
    "def get_topic_arn_list(client):\n",
    "        topic_arn_list = []\n",
    "\n",
    "        list_topics_22 = client.list_topics()['Topics']\n",
    "\n",
    "        for i in list_topics_22:\n",
    "            topic_arn = i['TopicArn'].split(':')[-1]\n",
    "            topic_arn_list.append(topic_arn)\n",
    "            \n",
    "        return topic_arn_list \n"
   ]
  },
  {
   "cell_type": "code",
   "execution_count": 73,
   "id": "230ed1c9-c9cf-4dfa-9401-85f7d4c58a70",
   "metadata": {},
   "outputs": [
    {
     "name": "stdout",
     "output_type": "stream",
     "text": [
      "['Default_CloudWatch_Alarms_Topic', 'alarm_greater_than_one_dollar', 'tornado_notification_service', 'tornado_notification_service_system']\n"
     ]
    }
   ],
   "source": [
    "topic_arn_list_2 =\\\n",
    "get_topic_arn_list(client = s3_sns_client)\n",
    "\n",
    "print(topic_arn_list_2)"
   ]
  },
  {
   "cell_type": "markdown",
   "id": "09932087-7701-458e-aabd-b830fc7d4239",
   "metadata": {},
   "source": [
    "#### Delete ARNs\n",
    "\n",
    "<p>For deletion the ARN adress is needed.</p>"
   ]
  },
  {
   "cell_type": "code",
   "execution_count": 24,
   "id": "941f2dda-492e-40b2-b611-527f64619766",
   "metadata": {},
   "outputs": [],
   "source": [
    "taifun_deletion = \\\n",
    "s3_sns_client.delete_topic(TopicArn=taifun_topic_arn)"
   ]
  },
  {
   "cell_type": "markdown",
   "id": "aa4c682b-5a05-4f16-a927-eab1f9c84d97",
   "metadata": {},
   "source": [
    "#### Is the taifun_notification_service still there?"
   ]
  },
  {
   "cell_type": "code",
   "execution_count": 74,
   "id": "d6d8f313-5c9a-49b6-be76-d901d080f5fc",
   "metadata": {},
   "outputs": [
    {
     "name": "stdout",
     "output_type": "stream",
     "text": [
      "['Default_CloudWatch_Alarms_Topic', 'alarm_greater_than_one_dollar', 'tornado_notification_service', 'tornado_notification_service_system']\n"
     ]
    }
   ],
   "source": [
    "topic_arn_list_2 =\\\n",
    "get_topic_arn_list(client = s3_sns_client)\n",
    "\n",
    "print(topic_arn_list_2)\n",
    "    "
   ]
  },
  {
   "cell_type": "markdown",
   "id": "b1a9fb44-40f5-43c0-9c67-dc9957d6cf60",
   "metadata": {},
   "source": [
    "#### Create subscriptions\n",
    "<p>\n",
    "for topics.<br>\n",
    "In this case, subscribe to the tornado notification service.\n",
    "</p>"
   ]
  },
  {
   "cell_type": "code",
   "execution_count": 26,
   "id": "41c1bb42-3dca-4c9a-abc9-bf07d8686c7d",
   "metadata": {},
   "outputs": [],
   "source": [
    "subscription_1 = \\\n",
    "s3_sns_client.subscribe(\n",
    "TopicArn = tornado_topic_arn,\n",
    "Protocol = 'email',\n",
    "Endpoint = 'iomer3423@mailfence.com')"
   ]
  },
  {
   "cell_type": "code",
   "execution_count": 27,
   "id": "226cdbeb-5a11-4571-ba9f-0007e4155a27",
   "metadata": {},
   "outputs": [],
   "source": [
    "subscription_2 = \\\n",
    "s3_sns_client.subscribe(\n",
    "TopicArn = tornado_topic_arn,\n",
    "Protocol = 'email',\n",
    "Endpoint = 'Gotermer3534@yahoo.com')"
   ]
  },
  {
   "cell_type": "code",
   "execution_count": 28,
   "id": "43335149-2b85-4661-821f-7fac2436d9c5",
   "metadata": {},
   "outputs": [],
   "source": [
    "subscription_3 = \\\n",
    "s3_sns_client.subscribe(\n",
    "TopicArn = tornado_topic_arn,\n",
    "Protocol = 'email',\n",
    "Endpoint = 'ermerdir.itoplasto@aol.com')"
   ]
  },
  {
   "cell_type": "code",
   "execution_count": 29,
   "id": "5f51b8a5-7ee2-4955-993f-78a79ac38ec4",
   "metadata": {},
   "outputs": [
    {
     "name": "stdout",
     "output_type": "stream",
     "text": [
      "pending confirmation\n",
      "pending confirmation\n",
      "pending confirmation\n"
     ]
    }
   ],
   "source": [
    "print(subscription_1['SubscriptionArn'])\n",
    "print(subscription_2['SubscriptionArn'])\n",
    "print(subscription_3['SubscriptionArn'])"
   ]
  },
  {
   "cell_type": "markdown",
   "id": "9489d70c-2c12-4262-9dd9-d7eb21c371e7",
   "metadata": {},
   "source": [
    "## Waiting for confirmation\n",
    "<p>\n",
    "After confirmation by the recipient.\n",
    "</p>"
   ]
  },
  {
   "cell_type": "code",
   "execution_count": 30,
   "id": "34ff4d34-966f-474f-b8b4-cf59552c97cb",
   "metadata": {},
   "outputs": [
    {
     "name": "stdout",
     "output_type": "stream",
     "text": [
      "{'SubscriptionArn': 'pending confirmation', 'ResponseMetadata': {'RequestId': '5fd9e8ee-5dfc-50dd-83a1-b315bd6fd22b', 'HTTPStatusCode': 200, 'HTTPHeaders': {'x-amzn-requestid': '5fd9e8ee-5dfc-50dd-83a1-b315bd6fd22b', 'content-type': 'text/xml', 'content-length': '298', 'date': 'Sat, 26 Nov 2022 09:37:22 GMT'}, 'RetryAttempts': 0}}\n"
     ]
    }
   ],
   "source": [
    "print(subscription_1)"
   ]
  },
  {
   "cell_type": "markdown",
   "id": "9298f29f-4ec5-43a0-b7f5-08604f9c8faf",
   "metadata": {},
   "source": [
    "#### Which subscriptions are existing?"
   ]
  },
  {
   "cell_type": "code",
   "execution_count": 31,
   "id": "10d5de94-90f9-4c5a-9fcf-a1d18e1eabd7",
   "metadata": {},
   "outputs": [
    {
     "name": "stdout",
     "output_type": "stream",
     "text": [
      "[{'SubscriptionArn': 'arn:aws:sns:us-east-1:047675893846:tornado_notification_service:db337d9d-8def-4065-b8ff-c1919885d3dc', 'Owner': '047675893846', 'Protocol': 'email', 'Endpoint': 'iomer3423@mailfence.com', 'TopicArn': 'arn:aws:sns:us-east-1:047675893846:tornado_notification_service'}, {'SubscriptionArn': 'arn:aws:sns:us-east-1:047675893846:tornado_notification_service_system:e38d5980-8a4a-4ff8-a867-dfb54106df67', 'Owner': '047675893846', 'Protocol': 'email', 'Endpoint': 'ermerdir.itoplasto@aol.com', 'TopicArn': 'arn:aws:sns:us-east-1:047675893846:tornado_notification_service_system'}, {'SubscriptionArn': 'arn:aws:sns:us-east-1:047675893846:tornado_notification_service_system:4fff18ee-b3b3-479a-a311-64ea04ae8f83', 'Owner': '047675893846', 'Protocol': 'email', 'Endpoint': 'Gotermer3534@yahoo.com', 'TopicArn': 'arn:aws:sns:us-east-1:047675893846:tornado_notification_service_system'}, {'SubscriptionArn': 'arn:aws:sns:us-east-1:047675893846:tornado_notification_service:1e5039aa-b145-4745-9ee0-6bde12ca2cd5', 'Owner': '047675893846', 'Protocol': 'email', 'Endpoint': 'Gotermer3534@yahoo.com', 'TopicArn': 'arn:aws:sns:us-east-1:047675893846:tornado_notification_service'}]\n"
     ]
    }
   ],
   "source": [
    "all_subscriptions = \\\n",
    "s3_sns_client.list_subscriptions()['Subscriptions']\n",
    "print(all_subscriptions)"
   ]
  },
  {
   "cell_type": "code",
   "execution_count": 33,
   "id": "59c5361d-dd66-431a-aa97-6ca2355628d3",
   "metadata": {},
   "outputs": [
    {
     "name": "stdout",
     "output_type": "stream",
     "text": [
      "4\n"
     ]
    },
    {
     "data": {
      "text/plain": [
       "{'iomer3423@mailfence.com': 'arn:aws:sns:us-east-1:047675893846:tornado_notification_service:db337d9d-8def-4065-b8ff-c1919885d3dc',\n",
       " 'ermerdir.itoplasto@aol.com': 'arn:aws:sns:us-east-1:047675893846:tornado_notification_service_system:e38d5980-8a4a-4ff8-a867-dfb54106df67',\n",
       " 'Gotermer3534@yahoo.com': 'arn:aws:sns:us-east-1:047675893846:tornado_notification_service:1e5039aa-b145-4745-9ee0-6bde12ca2cd5'}"
      ]
     },
     "execution_count": 33,
     "metadata": {},
     "output_type": "execute_result"
    }
   ],
   "source": [
    "# getting only the endpoint and the arn's\n",
    "\n",
    "print(len(all_subscriptions))\n",
    "\n",
    "confirmed_1 = {}\n",
    "\n",
    "for i in range(len(all_subscriptions)):\n",
    "    enpoint_22 = s3_sns_client.list_subscriptions()['Subscriptions'][i]['Endpoint']\n",
    "    arn_22 = s3_sns_client.list_subscriptions()['Subscriptions'][i]['SubscriptionArn']\n",
    "    confirmed_1[enpoint_22] = arn_22\n",
    "\n",
    "confirmed_1"
   ]
  },
  {
   "cell_type": "markdown",
   "id": "5c808c55-cad9-41ba-956f-6d0074eac335",
   "metadata": {},
   "source": [
    "#### Which emails are subscribed to the tornado topic?"
   ]
  },
  {
   "cell_type": "code",
   "execution_count": 34,
   "id": "f182ff74-dd12-437a-a960-cb3ff3153966",
   "metadata": {},
   "outputs": [],
   "source": [
    "subscription_dict_tornado = \\\n",
    "s3_sns_client.list_subscriptions_by_topic(\n",
    "TopicArn=tornado_topic_arn)"
   ]
  },
  {
   "cell_type": "code",
   "execution_count": 36,
   "id": "558a4373-05db-4516-ba17-1745ab81d348",
   "metadata": {},
   "outputs": [
    {
     "data": {
      "text/plain": [
       "dict_keys(['SubscriptionArn', 'Owner', 'Protocol', 'Endpoint', 'TopicArn'])"
      ]
     },
     "execution_count": 36,
     "metadata": {},
     "output_type": "execute_result"
    }
   ],
   "source": [
    "subscription_dict_tornado['Subscriptions'][0].keys()"
   ]
  },
  {
   "cell_type": "markdown",
   "id": "e95f6f8b-b183-4635-827f-a599915329bd",
   "metadata": {},
   "source": [
    "<p>\n",
    "The 'SubscriptionArn' identifies the subscriber.\n",
    "</p>"
   ]
  },
  {
   "cell_type": "code",
   "execution_count": 37,
   "id": "3c81b18b-1f28-40fa-9e59-2f0c9fa11a5f",
   "metadata": {},
   "outputs": [
    {
     "name": "stdout",
     "output_type": "stream",
     "text": [
      "ermerdir.itoplasto@aol.com\n",
      "iomer3423@mailfence.com\n"
     ]
    }
   ],
   "source": [
    "for i in range(0,2):\n",
    "    print(subscription_dict_tornado['Subscriptions'][i]['Endpoint'])"
   ]
  },
  {
   "cell_type": "code",
   "execution_count": 38,
   "id": "bf9b9cfd-7141-4f84-8369-7156cd92a3f8",
   "metadata": {},
   "outputs": [
    {
     "data": {
      "text/plain": [
       "{'SubscriptionArn': 'arn:aws:sns:us-east-1:047675893846:tornado_notification_service:2c0a6dd0-c9f4-40fd-9d60-01330b2e2c22',\n",
       " 'Owner': '047675893846',\n",
       " 'Protocol': 'email',\n",
       " 'Endpoint': 'ermerdir.itoplasto@aol.com',\n",
       " 'TopicArn': 'arn:aws:sns:us-east-1:047675893846:tornado_notification_service'}"
      ]
     },
     "execution_count": 38,
     "metadata": {},
     "output_type": "execute_result"
    }
   ],
   "source": [
    "subscription_dict_tornado['Subscriptions'][0]"
   ]
  },
  {
   "cell_type": "code",
   "execution_count": 39,
   "id": "cfe8a969-8e60-492b-bd81-423d15044e41",
   "metadata": {},
   "outputs": [
    {
     "name": "stdout",
     "output_type": "stream",
     "text": [
      "arn:aws:sns:us-east-1:047675893846:tornado_notification_service:2c0a6dd0-c9f4-40fd-9d60-01330b2e2c22\n",
      "arn:aws:sns:us-east-1:047675893846:tornado_notification_service:db337d9d-8def-4065-b8ff-c1919885d3dc\n",
      "arn:aws:sns:us-east-1:047675893846:tornado_notification_service:1e5039aa-b145-4745-9ee0-6bde12ca2cd5\n"
     ]
    }
   ],
   "source": [
    "arn_itoplast_aol = subscription_dict_tornado['Subscriptions'][0]['SubscriptionArn']\n",
    "arn_iomer_mailfence = subscription_dict_tornado['Subscriptions'][1]['SubscriptionArn']\n",
    "arn_gotermer_yahoo = subscription_dict_tornado['Subscriptions'][2]['SubscriptionArn']\n",
    "\n",
    "print(arn_itoplast_aol)\n",
    "print(arn_iomer_mailfence)\n",
    "print(arn_gotermer_yahoo)"
   ]
  },
  {
   "cell_type": "markdown",
   "id": "47050ad1-53db-41ce-a43a-7fa65a6a97e5",
   "metadata": {},
   "source": [
    "#### Filter for protocols (email, app, sms ...)"
   ]
  },
  {
   "cell_type": "code",
   "execution_count": 40,
   "id": "b178422b-5b27-43de-a48e-11ffd1e08cf3",
   "metadata": {},
   "outputs": [
    {
     "name": "stdout",
     "output_type": "stream",
     "text": [
      "ermerdir.itoplasto@aol.com\n",
      "iomer3423@mailfence.com\n",
      "Gotermer3534@yahoo.com\n"
     ]
    }
   ],
   "source": [
    "subs_222 = subscription_dict_tornado['Subscriptions']\n",
    "\n",
    "for sub in subs_222:\n",
    "    if sub['Protocol'] == \"email\":\n",
    "        print(sub['Endpoint'])\n",
    "        "
   ]
  },
  {
   "cell_type": "markdown",
   "id": "9ffebcf0-918b-4ec3-bd93-704b3d977b87",
   "metadata": {},
   "source": [
    "<p>\n",
    "This user defined function could be added to the helper package.\n",
    "</p>"
   ]
  },
  {
   "cell_type": "code",
   "execution_count": 41,
   "id": "d775308a-6f53-4fef-a731-e984daead0ac",
   "metadata": {},
   "outputs": [
    {
     "data": {
      "text/plain": [
       "'ermerdir.itoplasto@aol.com'"
      ]
     },
     "execution_count": 41,
     "metadata": {},
     "output_type": "execute_result"
    }
   ],
   "source": [
    "def filter_protocol(topic_dict, protocol):\n",
    "    for sub in topic_dict:\n",
    "        if sub['Protocol'] == protocol:\n",
    "            return sub['Endpoint']\n",
    "            \n",
    "filter_protocol(topic_dict=subs_222, protocol='email')"
   ]
  },
  {
   "cell_type": "markdown",
   "id": "96bc9322-1eb1-44ac-b946-4ba5279ebe53",
   "metadata": {},
   "source": [
    "#### Unsubscribe"
   ]
  },
  {
   "cell_type": "code",
   "execution_count": 42,
   "id": "06ba3f0d-74a4-4b49-aa16-3b77dc822b80",
   "metadata": {},
   "outputs": [
    {
     "data": {
      "text/plain": [
       "{'ResponseMetadata': {'RequestId': '943616ff-05c4-5192-8d2c-4d04e75440f1',\n",
       "  'HTTPStatusCode': 200,\n",
       "  'HTTPHeaders': {'x-amzn-requestid': '943616ff-05c4-5192-8d2c-4d04e75440f1',\n",
       "   'content-type': 'text/xml',\n",
       "   'content-length': '201',\n",
       "   'date': 'Sat, 26 Nov 2022 09:45:52 GMT'},\n",
       "  'RetryAttempts': 0}}"
      ]
     },
     "execution_count": 42,
     "metadata": {},
     "output_type": "execute_result"
    }
   ],
   "source": [
    "s3_sns_client.unsubscribe(\n",
    "    SubscriptionArn = arn_itoplast_aol)"
   ]
  },
  {
   "cell_type": "code",
   "execution_count": 43,
   "id": "0af190ad-ec9e-471b-be2a-4058013d2585",
   "metadata": {},
   "outputs": [],
   "source": [
    "if arn_iomer_mailfence.startswith('arn'):\n",
    "    s3_sns_client.unsubscribe(SubscriptionArn = arn_iomer_mailfence)\n",
    "else:\n",
    "    print(arn_iomer_mailfence)"
   ]
  },
  {
   "cell_type": "code",
   "execution_count": 44,
   "id": "71585466-4869-4211-a8ee-e1562e37af32",
   "metadata": {},
   "outputs": [
    {
     "name": "stdout",
     "output_type": "stream",
     "text": [
      "ermerdir.itoplasto@aol.com\n",
      "iomer3423@mailfence.com\n"
     ]
    }
   ],
   "source": [
    "for i in range(0,2):\n",
    "    print(subscription_dict_tornado['Subscriptions'][i]['Endpoint'])"
   ]
  },
  {
   "cell_type": "markdown",
   "id": "c93f85ce-3485-4981-8928-6112d262f2b3",
   "metadata": {},
   "source": [
    "#### Unsubscribe multiple endpoints by topic and protocol\n",
    "\n",
    "<p>\n",
    "This user defined function could be added to the helper package.\n",
    "</p>"
   ]
  },
  {
   "cell_type": "code",
   "execution_count": 45,
   "id": "528d49d9-da08-4cd3-9b69-74d206099f3e",
   "metadata": {},
   "outputs": [],
   "source": [
    "def unsubscribe_protocol(client, TopicArn, protocol):\n",
    "    \n",
    "    unsubscribed_SubscriptionArns = {}\n",
    "    \n",
    "    client_333 = eval(client)\n",
    "    print(type(client_333))\n",
    "    response_555 = client_333.list_subscriptions_by_topic(TopicArn=TopicArn)\n",
    "    subs555 = response_555['Subscriptions']\n",
    "    print(subs555)\n",
    "    \n",
    "    for sub in subs555:\n",
    "        if (sub['SubscriptionArn']== 'PendingConfirmation'):\n",
    "            continue\n",
    "    \n",
    "        if (sub['Protocol'] == protocol):\n",
    "                print(sub['SubscriptionArn'])\n",
    "                client_333.unsubscribe(SubscriptionArn=sub['SubscriptionArn'])\n",
    "                print(protocol)\n",
    "                \n",
    "                unsubscribed_SubscriptionArns['Endpoint'] = sub['SubscriptionArn']\n",
    "                \n",
    "        return unsubscribed_SubscriptionArns\n",
    "                "
   ]
  },
  {
   "cell_type": "code",
   "execution_count": 46,
   "id": "5ca0e166-7dd0-4ea6-a4db-b2f9746d6208",
   "metadata": {},
   "outputs": [
    {
     "name": "stdout",
     "output_type": "stream",
     "text": [
      "<class 'botocore.client.SNS'>\n",
      "[{'SubscriptionArn': 'arn:aws:sns:us-east-1:047675893846:tornado_notification_service:1e5039aa-b145-4745-9ee0-6bde12ca2cd5', 'Owner': '047675893846', 'Protocol': 'email', 'Endpoint': 'Gotermer3534@yahoo.com', 'TopicArn': 'arn:aws:sns:us-east-1:047675893846:tornado_notification_service'}]\n",
      "arn:aws:sns:us-east-1:047675893846:tornado_notification_service:1e5039aa-b145-4745-9ee0-6bde12ca2cd5\n",
      "email\n"
     ]
    },
    {
     "data": {
      "text/plain": [
       "{'Endpoint': 'arn:aws:sns:us-east-1:047675893846:tornado_notification_service:1e5039aa-b145-4745-9ee0-6bde12ca2cd5'}"
      ]
     },
     "execution_count": 46,
     "metadata": {},
     "output_type": "execute_result"
    }
   ],
   "source": [
    "unsubscribed_SubscriptionArns_1 = \\\n",
    "unsubscribe_protocol(client='s3_sns_client', \n",
    "                     TopicArn=tornado_topic_arn, \n",
    "                     protocol='email')\n",
    "\n",
    "unsubscribed_SubscriptionArns_1"
   ]
  },
  {
   "cell_type": "markdown",
   "id": "7a20ea86-c6be-48ca-b917-25f8a00e9070",
   "metadata": {},
   "source": [
    "#### Resubscribe"
   ]
  },
  {
   "cell_type": "code",
   "execution_count": 47,
   "id": "1246dbe1-b2e6-419b-800d-0f1e75d87944",
   "metadata": {},
   "outputs": [
    {
     "name": "stdout",
     "output_type": "stream",
     "text": [
      "{'SubscriptionArn': 'pending confirmation', 'ResponseMetadata': {'RequestId': '73905c68-f424-530f-89ea-079316891425', 'HTTPStatusCode': 200, 'HTTPHeaders': {'x-amzn-requestid': '73905c68-f424-530f-89ea-079316891425', 'content-type': 'text/xml', 'content-length': '298', 'date': 'Sat, 26 Nov 2022 09:46:21 GMT'}, 'RetryAttempts': 0}}\n"
     ]
    }
   ],
   "source": [
    "resubscribe_1 = \\\n",
    "[\"ermerdir.itoplasto@aol.com\", \"iomer3423@mailfence.com\", \"Gotermer3534@yahoo.com\"]\n",
    "\n",
    "resubscribe_1_responses = []\n",
    "\n",
    "for i in resubscribe_1:\n",
    "    \n",
    "    response_1 = \\\n",
    "    s3_sns_client.subscribe(\n",
    "    TopicArn = tornado_topic_arn,\n",
    "    Protocol = 'email',\n",
    "    Endpoint = i)\n",
    "    \n",
    "    resubscribe_1_responses.append(response_1)\n",
    "print(resubscribe_1_responses[0] )"
   ]
  },
  {
   "cell_type": "markdown",
   "id": "9e5c26d9-61f3-4410-b45a-d5eefa2fe8fc",
   "metadata": {},
   "source": [
    "### Waiting for confirmation!"
   ]
  },
  {
   "cell_type": "code",
   "execution_count": 48,
   "id": "076b36f9-27f2-4984-ab0f-b913955df404",
   "metadata": {},
   "outputs": [
    {
     "name": "stdout",
     "output_type": "stream",
     "text": [
      "iomer3423@mailfence.com\n",
      "ermerdir.itoplasto@aol.com\n",
      "Gotermer3534@yahoo.com\n",
      "ermerdir.itoplasto@aol.com\n"
     ]
    }
   ],
   "source": [
    "subs_899 =  s3_sns_client.list_subscriptions()['Subscriptions']\n",
    "\n",
    "for i in subs_899:\n",
    "    print(i['Endpoint'])"
   ]
  },
  {
   "cell_type": "markdown",
   "id": "3685ee3d-4352-45bb-a121-78697245d458",
   "metadata": {
    "tags": []
   },
   "source": [
    "### Publishing notification messages\n",
    "\n",
    "<p>\n",
    "That is what SNS is all about.\n",
    "</p>"
   ]
  },
  {
   "cell_type": "code",
   "execution_count": 49,
   "id": "12ea65bd-c4cf-4c09-b378-bb0451540a0f",
   "metadata": {},
   "outputs": [],
   "source": [
    "publish_response_1 = \\\n",
    "s3_sns_client.publish(\n",
    "    TopicArn=tornado_topic_arn,\n",
    "    Message = \"The tornado 'Chelsea' is coming tomorrow between 3 PM and 5 PM. \\n It orignated in the West Atlantic. \\n The pace is going to be around 510 KM / h. (F5). \\n More news will follow.\",\n",
    "    Subject = \"Breaking news: a new tornado is on the way!\")"
   ]
  },
  {
   "cell_type": "code",
   "execution_count": 50,
   "id": "dd1ad26c-546b-4374-a675-21d88c98e70a",
   "metadata": {},
   "outputs": [
    {
     "data": {
      "text/plain": [
       "{'MessageId': '50a624e8-5b47-57ed-9c58-7f13b9a9c6b1',\n",
       " 'ResponseMetadata': {'RequestId': 'ae77b882-bed3-5650-ab56-e3795c3d070c',\n",
       "  'HTTPStatusCode': 200,\n",
       "  'HTTPHeaders': {'x-amzn-requestid': 'ae77b882-bed3-5650-ab56-e3795c3d070c',\n",
       "   'content-type': 'text/xml',\n",
       "   'content-length': '294',\n",
       "   'date': 'Sat, 26 Nov 2022 09:47:26 GMT'},\n",
       "  'RetryAttempts': 0}}"
      ]
     },
     "execution_count": 50,
     "metadata": {},
     "output_type": "execute_result"
    }
   ],
   "source": [
    "publish_response_1 \n"
   ]
  },
  {
   "cell_type": "markdown",
   "id": "db2bbfa7-7799-46a4-bfdb-c17ae1ed6f08",
   "metadata": {},
   "source": [
    "#### Unsuscribe\n",
    "<p>\n",
    "all suscribers.<br>\n",
    "Making a clean slate on AWS for the next project:<br>\n",
    "<b>\"Setting up a tornado warning system with AWS Simple Notification Service (SNS)\"</b>\n",
    "</p>"
   ]
  },
  {
   "cell_type": "code",
   "execution_count": 51,
   "id": "a6fb2e91-714c-40d5-a68e-ccfda287bf6b",
   "metadata": {},
   "outputs": [
    {
     "name": "stdout",
     "output_type": "stream",
     "text": [
      "<class 'botocore.client.SNS'>\n",
      "[{'SubscriptionArn': 'arn:aws:sns:us-east-1:047675893846:tornado_notification_service:23ca6abf-79fa-4c2a-a364-2a3ab95a0425', 'Owner': '047675893846', 'Protocol': 'email', 'Endpoint': 'Gotermer3534@yahoo.com', 'TopicArn': 'arn:aws:sns:us-east-1:047675893846:tornado_notification_service'}, {'SubscriptionArn': 'arn:aws:sns:us-east-1:047675893846:tornado_notification_service:0232d62c-4e61-4010-8116-78b1bef4adbe', 'Owner': '047675893846', 'Protocol': 'email', 'Endpoint': 'iomer3423@mailfence.com', 'TopicArn': 'arn:aws:sns:us-east-1:047675893846:tornado_notification_service'}, {'SubscriptionArn': 'arn:aws:sns:us-east-1:047675893846:tornado_notification_service:7cf9d0f2-77e5-404d-879b-eed03502b2dd', 'Owner': '047675893846', 'Protocol': 'email', 'Endpoint': 'ermerdir.itoplasto@aol.com', 'TopicArn': 'arn:aws:sns:us-east-1:047675893846:tornado_notification_service'}]\n",
      "arn:aws:sns:us-east-1:047675893846:tornado_notification_service:23ca6abf-79fa-4c2a-a364-2a3ab95a0425\n",
      "email\n"
     ]
    }
   ],
   "source": [
    "unsubscribed_SubscriptionArns_2 = \\\n",
    "unsubscribe_protocol(client='s3_sns_client', \n",
    "                     TopicArn=tornado_topic_arn, \n",
    "                     protocol='email')\n"
   ]
  },
  {
   "cell_type": "code",
   "execution_count": 52,
   "id": "b69b2feb-240b-47d0-b667-b164a9c8244d",
   "metadata": {},
   "outputs": [
    {
     "data": {
      "text/plain": [
       "{'Endpoint': 'arn:aws:sns:us-east-1:047675893846:tornado_notification_service:23ca6abf-79fa-4c2a-a364-2a3ab95a0425'}"
      ]
     },
     "execution_count": 52,
     "metadata": {},
     "output_type": "execute_result"
    }
   ],
   "source": [
    "unsubscribed_SubscriptionArns_2"
   ]
  },
  {
   "cell_type": "code",
   "execution_count": 53,
   "id": "14aa2a2d-b7f3-4549-a1f6-9423822d67f4",
   "metadata": {},
   "outputs": [
    {
     "name": "stdout",
     "output_type": "stream",
     "text": [
      "iomer3423@mailfence.com\n",
      "ermerdir.itoplasto@aol.com\n",
      "Gotermer3534@yahoo.com\n",
      "ermerdir.itoplasto@aol.com\n"
     ]
    }
   ],
   "source": [
    "subs_111 =  s3_sns_client.list_subscriptions()['Subscriptions']\n",
    "\n",
    "for i in subs_111:\n",
    "    print(i['Endpoint'])"
   ]
  }
 ],
 "metadata": {
  "kernelspec": {
   "display_name": "AWS",
   "language": "python",
   "name": "aws"
  },
  "language_info": {
   "codemirror_mode": {
    "name": "ipython",
    "version": 3
   },
   "file_extension": ".py",
   "mimetype": "text/x-python",
   "name": "python",
   "nbconvert_exporter": "python",
   "pygments_lexer": "ipython3",
   "version": "3.10.4"
  }
 },
 "nbformat": 4,
 "nbformat_minor": 5
}
